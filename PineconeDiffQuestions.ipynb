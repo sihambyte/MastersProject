{
 "cells": [
  {
   "cell_type": "code",
   "execution_count": 11,
   "id": "8b275218-c376-4f71-8399-dfc69110ab9e",
   "metadata": {},
   "outputs": [],
   "source": [
    "import numpy as np\n",
    "import os\n",
    "import shutil\n",
    "import time\n",
    "import pinecone\n",
    "from langchain.chains import ConversationalRetrievalChain, ConversationChain\n",
    "from langchain.llms import OpenAI\n",
    "from langchain.chat_models import ChatOpenAI\n",
    "from langchain.embeddings import OpenAIEmbeddings\n",
    "from langchain.document_loaders.generic import GenericLoader\n",
    "from langchain.document_loaders.parsers.txt import TextParser\n",
    "from langchain.memory import VectorStoreRetrieverMemory\n",
    "from langchain.prompts import PromptTemplate\n",
    "from langchain.text_splitter import Language, RecursiveCharacterTextSplitter\n",
    "from langchain.document_loaders import PyPDFLoader\n",
    "from langchain.vectorstores import Pinecone as PineconeVectorStore\n",
    "import matplotlib.pyplot as plt"
   ]
  },
  {
   "cell_type": "markdown",
   "id": "7d396e60-fd0e-42d2-93c6-d3ac72482312",
   "metadata": {},
   "source": [
    "Set up environment to have access to Pinecone and OpenAI"
   ]
  },
  {
   "cell_type": "code",
   "execution_count": 3,
   "id": "6d8ed646-faeb-48dc-80b4-d8fa3f052fa7",
   "metadata": {},
   "outputs": [],
   "source": [
    "os.environ[\"OPENAI_API_KEY\"] = ''\n",
    "os.environ['PINECONE_API_KEY'] = ''"
   ]
  },
  {
   "cell_type": "markdown",
   "id": "5abba17b-3a0a-414b-b889-2c8085eeebb6",
   "metadata": {},
   "source": [
    "Initalize a pincone object"
   ]
  },
  {
   "cell_type": "code",
   "execution_count": 4,
   "id": "553a3681-d604-4d75-9533-42742879f041",
   "metadata": {},
   "outputs": [],
   "source": [
    "from pinecone import Pinecone, ServerlessSpec\n",
    "pc = Pinecone(api_key='')"
   ]
  },
  {
   "cell_type": "markdown",
   "id": "65eecd92-9c33-496f-bf3c-ddb0c57581eb",
   "metadata": {},
   "source": [
    "Create indexes to store our data "
   ]
  },
  {
   "cell_type": "code",
   "execution_count": 6,
   "id": "ad1bf4fa-7656-45ca-9263-c51e02bb4ae3",
   "metadata": {},
   "outputs": [],
   "source": [
    "# create an index in Pinecone storage\n",
    "index_name = \"testing2\"\n",
    "\n",
    "# if index_name not in pc.list_indexes():\n",
    "#     pc.create_index(\n",
    "#         name=index_name,\n",
    "#         dimension=1536,  # Set to the dimension of OpenAI's ada-002 embeddings\n",
    "#         metric=\"euclidean\", \n",
    "#         spec=ServerlessSpec(\n",
    "#             cloud='aws', \n",
    "#             region='us-east-1'\n",
    "#         )\n",
    "#     )"
   ]
  },
  {
   "cell_type": "markdown",
   "id": "ccd046f2-86b8-45ef-83a3-010884699a5f",
   "metadata": {},
   "source": [
    "Data Preprocessing, generating embedding, and indexing"
   ]
  },
  {
   "cell_type": "code",
   "execution_count": 8,
   "id": "c9d8d23f-be73-4f07-9e63-2a9d4fd0faae",
   "metadata": {},
   "outputs": [
    {
     "name": "stdout",
     "output_type": "stream",
     "text": [
      "Number of raw documents loaded: 319\n",
      "Embedd the text chunks and stored them in Pinecone DB, Total time: 44.870620012283325s\n"
     ]
    }
   ],
   "source": [
    "# Parse markdown documents and split them into text chunks\n",
    "documentation_path = \"/Users/sihamargaw/Desktop/langchain/docs\"\n",
    "# this loader will be used to load the .mdx files from the path\n",
    "loader = GenericLoader.from_filesystem(\n",
    "    documentation_path,\n",
    "    glob=\"**/*\",\n",
    "    suffixes=[\".mdx\"],\n",
    "    parser=TextParser()\n",
    ")\n",
    "# this splitter will be used to split the documents into size 1000 text chunks\n",
    "splitter = RecursiveCharacterTextSplitter.from_language(\n",
    "    language=Language.MARKDOWN,\n",
    "    chunk_size=1000,\n",
    "    chunk_overlap=100\n",
    ")\n",
    "# load the documents using the loader created\n",
    "documents = loader.load()\n",
    "print(f\"Number of raw documents loaded: {len(documents)}\")\n",
    "\n",
    "# split the documents using the splitter created\n",
    "documents = splitter.split_documents(documents)\n",
    "documents = [d for d in documents if len(d.page_content) > 5]\n",
    "texts = [d.page_content for d in  documents]\n",
    "\n",
    "# Initalize our embedding model\n",
    "t1 = time.time()\n",
    "embedding = OpenAIEmbeddings()\n",
    "\n",
    "# Embedd the text chunks and store them in PineConeDB\n",
    "vectorstore = PineconeVectorStore.from_documents(\n",
    "    documents=documents,\n",
    "    embedding=embedding,\n",
    "    index_name=index_name,\n",
    "    namespace=\"langchain-namespace\"\n",
    ")\n",
    "t2 = time.time()\n",
    "print(f\"Embedd the text chunks and stored them in Pinecone DB, Total time: {(t2-t1)}s\")"
   ]
  },
  {
   "cell_type": "markdown",
   "id": "a622096b-b50a-40c1-92d9-9817773d2934",
   "metadata": {},
   "source": [
    "Retrieve data"
   ]
  },
  {
   "cell_type": "code",
   "execution_count": 9,
   "id": "ca1848eb-2d0c-4cf6-9d7d-b66778031a71",
   "metadata": {},
   "outputs": [
    {
     "name": "stderr",
     "output_type": "stream",
     "text": [
      "/var/folders/ym/q12h1czs7935v9b665jkynvh0000gn/T/ipykernel_82253/1355653535.py:2: LangChainDeprecationWarning: The class `ChatOpenAI` was deprecated in LangChain 0.0.10 and will be removed in 1.0. An updated version of the class exists in the :class:`~langchain-openai package and should be used instead. To use it run `pip install -U :class:`~langchain-openai` and import as `from :class:`~langchain_openai import ChatOpenAI``.\n",
      "  llm = ChatOpenAI(\n",
      "/var/folders/ym/q12h1czs7935v9b665jkynvh0000gn/T/ipykernel_82253/1355653535.py:16: LangChainDeprecationWarning: The method `Chain.run` was deprecated in langchain 0.1.0 and will be removed in 1.0. Use :meth:`~invoke` instead.\n",
      "  response = private_chatgpt.run({'question': question, 'chat_history': ''})\n"
     ]
    },
    {
     "name": "stdout",
     "output_type": "stream",
     "text": [
      "User: What is langchain?\n",
      "AI: LangChain is a framework for developing applications powered by large language models (LLMs). It simplifies every stage of the LLM application lifecycle, including development, productionization, and deployment.\n",
      "\n",
      "Total Latency for Retrieval: 1.6411020755767822 seconds\n"
     ]
    }
   ],
   "source": [
    "# Initialize LLM\n",
    "llm = ChatOpenAI(\n",
    "    model_name=\"gpt-3.5-turbo\",\n",
    "    temperature=0\n",
    ")\n",
    "\n",
    "# Use pinecone storage we setup as retriver in vector search\n",
    "retriever = vectorstore.as_retriever()\n",
    "# Use Langchain framework(ConversationalRetrievalChain a class in langchain) to make the backend for the LLM the retriver in our case it's PineCone\n",
    "private_chatgpt = ConversationalRetrievalChain.from_llm(llm, retriever=retriever)\n",
    "\n",
    "# Perform similarity search\n",
    "question = \"What is langchain?\"\n",
    "\n",
    "start_time = time.time() # Measure latency for retrieval\n",
    "response = private_chatgpt.run({'question': question, 'chat_history': ''})\n",
    "end_time = time.time()\n",
    "\n",
    "# Calculate TileDB’s latency when retrieving data.\n",
    "total_latency = end_time - start_time\n",
    "\n",
    "print(f\"User: {question}\")\n",
    "print(f\"AI: {response}\\n\")\n",
    "print(f\"Total Latency for Retrieval: {total_latency} seconds\")"
   ]
  },
  {
   "cell_type": "markdown",
   "id": "981674e1-4aee-4946-b25b-2162228b26a9",
   "metadata": {},
   "source": [
    "For different question formulations record time taken for retrieval"
   ]
  },
  {
   "cell_type": "code",
   "execution_count": 3,
   "id": "eeeb757b-42fe-4e81-8e24-5642fec4746a",
   "metadata": {},
   "outputs": [
    {
     "name": "stdout",
     "output_type": "stream",
     "text": [
      "Processing question: What is LangChain?\n",
      "Latency for 'What is LangChain?': 1.7621 seconds\n",
      "Processing question: Can you explain LangChain?\n",
      "Latency for 'Can you explain LangChain?': 2.1442 seconds\n",
      "Processing question: Describe the functionality of LangChain.\n",
      "Latency for 'Describe the functionality of LangChain.': 2.1525 seconds\n",
      "Processing question: What are the main features of LangChain?\n",
      "Latency for 'What are the main features of LangChain?': 2.2498 seconds\n",
      "Processing question: How does LangChain work?\n",
      "Latency for 'How does LangChain work?': 3.0727 seconds\n",
      "Processing question: Can you provide an overview of LangChain?\n",
      "Latency for 'Can you provide an overview of LangChain?': 2.1507 seconds\n"
     ]
    }
   ],
   "source": [
    "questions = [\n",
    "    \"What is LangChain?\",\n",
    "    \"Can you explain LangChain?\",\n",
    "    \"Describe the functionality of LangChain.\",\n",
    "    \"What are the main features of LangChain?\",\n",
    "    \"How does LangChain work?\",\n",
    "    \"Can you provide an overview of LangChain?\",\n",
    "]\n",
    "\n",
    "# Dictionary to store latencies for each question\n",
    "latency_results_pinecone = {}\n",
    "\n",
    "# Iterate over each question, measure latency, and store the results\n",
    "for question in questions:\n",
    "    print(f\"Processing question: {question}\")\n",
    "    start_time = time.time()\n",
    "    response = private_chatgpt.run({'question': question, 'chat_history': ''})\n",
    "    end_time = time.time()\n",
    "    latency = end_time - start_time\n",
    "    latency_results_pinecone[question] = latency\n",
    "    print(f\"Latency for '{question}': {latency:.4f} seconds\")\n"
   ]
  },
  {
   "cell_type": "code",
   "execution_count": 9,
   "id": "4408d64a-9717-4a69-9bdf-2203f5936f8b",
   "metadata": {},
   "outputs": [
    {
     "data": {
      "image/png": "[encoded data removed]",
      "text/plain": [
       "<Figure size 1200x600 with 1 Axes>"
      ]
     },
     "metadata": {},
     "output_type": "display_data"
    }
   ],
   "source": [
    "# Plotting the results\n",
    "questions_labels = list(latency_results_pinecone.keys())\n",
    "latencies_pinecone = list(latency_results_pinecone.values())\n",
    "latencies_tiledb = list(latency_results_tileDB.values())\n",
    "\n",
    "# Plotting the results\n",
    "fig, ax = plt.subplots(figsize=(12, 6))\n",
    "\n",
    "# Set bar height\n",
    "bar_height = 0.35\n",
    "\n",
    "# Set y positions for bars\n",
    "y = np.arange(len(questions_labels))\n",
    "\n",
    "# Plot bars\n",
    "ax.barh(y - bar_height/2, latencies_pinecone, bar_height, label='Pinecone')\n",
    "ax.barh(y + bar_height/2, latencies_tiledb, bar_height, label='TileDB')\n",
    "\n",
    "# Set title and labels\n",
    "ax.set_title('Latency Analysis for Different Question Formulations TileDB vs Pinecone')\n",
    "ax.set_ylabel('Question Labels')\n",
    "ax.set_xlabel('Latencies')\n",
    "\n",
    "# Set yticks\n",
    "ax.set_yticks(y)\n",
    "ax.set_yticklabels(questions_labels)\n",
    "\n",
    "# Add legend\n",
    "ax.legend()\n",
    "\n",
    "# Show plot\n",
    "plt.tight_layout()\n",
    "plt.show()"
   ]
  },
  {
   "cell_type": "code",
   "execution_count": null,
   "id": "b7dec8ce-903f-43c0-a8d4-917daeb9f49b",
   "metadata": {},
   "outputs": [],
   "source": []
  }
 ],
 "metadata": {
  "kernelspec": {
   "display_name": "Python 3 (ipykernel)",
   "language": "python",
   "name": "python3"
  },
  "language_info": {
   "codemirror_mode": {
    "name": "ipython",
    "version": 3
   },
   "file_extension": ".py",
   "mimetype": "text/x-python",
   "name": "python",
   "nbconvert_exporter": "python",
   "pygments_lexer": "ipython3",
   "version": "3.12.6"
  }
 },
 "nbformat": 4,
 "nbformat_minor": 5
}
